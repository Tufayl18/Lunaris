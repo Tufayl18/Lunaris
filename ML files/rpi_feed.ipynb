{
 "cells": [
  {
   "cell_type": "code",
   "execution_count": 2,
   "id": "014230c8-4d47-473b-aefd-6a5697f4b649",
   "metadata": {},
   "outputs": [
    {
     "name": "stdout",
     "output_type": "stream",
     "text": [
      "Collecting flask\n",
      "  Using cached flask-3.0.3-py3-none-any.whl.metadata (3.2 kB)\n",
      "Requirement already satisfied: Werkzeug>=3.0.0 in /Users/bigfatrat/miniconda3/lib/python3.12/site-packages (from flask) (3.0.4)\n",
      "Requirement already satisfied: Jinja2>=3.1.2 in /Users/bigfatrat/miniconda3/lib/python3.12/site-packages (from flask) (3.1.4)\n",
      "Collecting itsdangerous>=2.1.2 (from flask)\n",
      "  Using cached itsdangerous-2.2.0-py3-none-any.whl.metadata (1.9 kB)\n",
      "Requirement already satisfied: click>=8.1.3 in /Users/bigfatrat/miniconda3/lib/python3.12/site-packages (from flask) (8.1.7)\n",
      "Collecting blinker>=1.6.2 (from flask)\n",
      "  Using cached blinker-1.8.2-py3-none-any.whl.metadata (1.6 kB)\n",
      "Requirement already satisfied: MarkupSafe>=2.0 in /Users/bigfatrat/miniconda3/lib/python3.12/site-packages (from Jinja2>=3.1.2->flask) (2.1.5)\n",
      "Using cached flask-3.0.3-py3-none-any.whl (101 kB)\n",
      "Using cached blinker-1.8.2-py3-none-any.whl (9.5 kB)\n",
      "Using cached itsdangerous-2.2.0-py3-none-any.whl (16 kB)\n",
      "Installing collected packages: itsdangerous, blinker, flask\n",
      "Successfully installed blinker-1.8.2 flask-3.0.3 itsdangerous-2.2.0\n"
     ]
    }
   ],
   "source": [
    "!pip install flask"
   ]
  },
  {
   "cell_type": "code",
   "execution_count": 3,
   "id": "ba84a2ed-c817-45e7-bf39-df63e7950766",
   "metadata": {},
   "outputs": [],
   "source": [
    "from flask import Flask, Response, stream_with_context\n",
    "import cv2\n",
    "import requests\n",
    "import numpy as np\n",
    "\n",
    "app = Flask(__name__)"
   ]
  },
  {
   "cell_type": "code",
   "execution_count": 4,
   "id": "45437bfe-f7ac-40b8-97ad-2441d5c3714c",
   "metadata": {},
   "outputs": [],
   "source": [
    "# URL to receive the video feed from Raspberry Pi\n",
    "RPI_VIDEO_URL = \"http://192.168.107.54:5000/video_feed\"  # Replace with actual Raspberry Pi IP"
   ]
  },
  {
   "cell_type": "code",
   "execution_count": 5,
   "id": "5c895e18-abdf-493f-a95f-dc51e6fcbdfe",
   "metadata": {},
   "outputs": [],
   "source": [
    "def process_frame(frame):\n",
    "    # Apply some processing (e.g., convert to grayscale)\n",
    "    gray = cv2.cvtColor(frame, cv2.COLOR_BGR2GRAY)\n",
    "    processed_frame = cv2.cvtColor(gray, cv2.COLOR_GRAY2BGR)\n",
    "    return processed_frame"
   ]
  },
  {
   "cell_type": "code",
   "execution_count": 6,
   "id": "b1b3424f-1bc0-42ab-a423-67ff4957d397",
   "metadata": {},
   "outputs": [],
   "source": [
    "def generate_processed_frames():\n",
    "    stream = requests.get(RPI_VIDEO_URL, stream=True)\n",
    "    byte_buffer = b''\n",
    "    for chunk in stream.iter_content(chunk_size=1024):\n",
    "        byte_buffer += chunk\n",
    "\n",
    "        a = byte_buffer.find(b'\\xff\\xd8')  # Start of JPEG\n",
    "        b = byte_buffer.find(b'\\xff\\xd9')  # End of JPEG\n",
    "\n",
    "        if a != -1 and b != -1:\n",
    "            jpg = byte_buffer[a:b+2]\n",
    "            byte_buffer = byte_buffer[b+2:]\n",
    "\n",
    "            # Decode frame and process\n",
    "            frame = cv2.imdecode(np.frombuffer(jpg, dtype=np.uint8), cv2.IMREAD_COLOR)\n",
    "            processed_frame = process_frame(frame)\n",
    "\n",
    "            # Send confirmation message back to Raspberry Pi after processing\n",
    "            requests.post(\"http://192.168.107.54:5000/processing_done\", json={\"message\": \"Processing done for this frame\"})\n",
    "\n",
    "            # Encode the processed frame back to JPEG\n",
    "            ret, buffer = cv2.imencode('.jpg', processed_frame)\n",
    "            if not ret:\n",
    "                continue\n",
    "\n",
    "            processed_frame = buffer.tobytes()\n",
    "\n",
    "            # Yield the processed frame as bytes\n",
    "            yield (b'--frame\\r\\n'\n",
    "                   b'Content-Type: image/jpeg\\r\\n\\r\\n' + processed_frame + b'\\r\\n')"
   ]
  },
  {
   "cell_type": "code",
   "execution_count": 7,
   "id": "f6f41c9e-790a-4620-b769-2d593948cbd6",
   "metadata": {},
   "outputs": [],
   "source": [
    "@app.route('/')\n",
    "def index():\n",
    "    # Automatically redirect to /processed_feed\n",
    "    return Response(\"Redirecting to /processed_feed\", status=302, headers={'Location': '/processed_feed'})\n",
    "\n",
    "@app.route('/processed_feed')\n",
    "def processed_feed():\n",
    "    return Response(stream_with_context(generate_processed_frames()), mimetype='multipart/x-mixed-replace; boundary=frame')"
   ]
  },
  {
   "cell_type": "code",
   "execution_count": 8,
   "id": "b187c9f8-4b2d-43fb-85db-504641dd4d07",
   "metadata": {},
   "outputs": [
    {
     "name": "stdout",
     "output_type": "stream",
     "text": [
      " * Serving Flask app '__main__'\n",
      " * Debug mode: off\n"
     ]
    },
    {
     "name": "stderr",
     "output_type": "stream",
     "text": [
      "\u001b[31m\u001b[1mWARNING: This is a development server. Do not use it in a production deployment. Use a production WSGI server instead.\u001b[0m\n",
      " * Running on all addresses (0.0.0.0)\n",
      " * Running on http://127.0.0.1:5001\n",
      " * Running on http://192.168.107.172:5001\n",
      "\u001b[33mPress CTRL+C to quit\u001b[0m\n",
      "192.168.107.172 - - [24/Oct/2024 23:56:21] \"\u001b[32mGET / HTTP/1.1\u001b[0m\" 302 -\n",
      "192.168.107.172 - - [24/Oct/2024 23:56:24] \"GET /processed_feed HTTP/1.1\" 200 -\n"
     ]
    }
   ],
   "source": [
    "app.run(host='0.0.0.0', port=5001)"
   ]
  },
  {
   "cell_type": "code",
   "execution_count": null,
   "id": "ffac5f7e-f79c-4128-88ef-494d3483f30a",
   "metadata": {},
   "outputs": [],
   "source": []
  }
 ],
 "metadata": {
  "kernelspec": {
   "display_name": "Python 3 (ipykernel)",
   "language": "python",
   "name": "python3"
  },
  "language_info": {
   "codemirror_mode": {
    "name": "ipython",
    "version": 3
   },
   "file_extension": ".py",
   "mimetype": "text/x-python",
   "name": "python",
   "nbconvert_exporter": "python",
   "pygments_lexer": "ipython3",
   "version": "3.12.4"
  }
 },
 "nbformat": 4,
 "nbformat_minor": 5
}
